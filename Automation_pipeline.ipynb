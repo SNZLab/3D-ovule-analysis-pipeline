{
 "cells": [
  {
   "cell_type": "code",
   "execution_count": 43,
   "metadata": {
    "collapsed": true
   },
   "outputs": [],
   "source": [
    "import psycopg2\n",
    "import numpy as np\n",
    "import pandas as pd"
   ]
  },
  {
   "cell_type": "code",
   "execution_count": 52,
   "metadata": {
    "collapsed": false,
    "pycharm": {
     "name": "#%%\n"
    }
   },
   "outputs": [],
   "source": [
    "# Connect to database\n",
    "con = psycopg2.connect(\"dbname='SNZLab' user='postgres' host='localhost' password='PlantDevSchnLab112022'\")\n",
    "\n",
    "# Open a cursor to perform database operations\n",
    "cur = con.cursor()\n",
    "\n",
    "# Execute a command\n",
    "cur.execute(\"SELECT * FROM cell_attributes\")"
   ]
  },
  {
   "cell_type": "code",
   "execution_count": 53,
   "metadata": {
    "collapsed": false,
    "pycharm": {
     "name": "#%%\n"
    }
   },
   "outputs": [],
   "source": [
    "# Obtain data as python opject\n",
    "\n",
    "# Obtain first row of data table\n",
    "# first_col = cur.fetchone()\n",
    "\n",
    "# Obtain all rows\n",
    "cell_attributes = cur.fetchall()\n",
    "\n",
    "# Obtain column names\n",
    "colnames = [desc[0] for desc in cur.description]"
   ]
  },
  {
   "cell_type": "code",
   "execution_count": 54,
   "metadata": {},
   "outputs": [],
   "source": [
    "# Create pandas DataFrame from list of tuples\n",
    "df = pd.DataFrame(cell_attributes)\n",
    "\n",
    "# Add column names to respective columns\n",
    "df.columns = colnames"
   ]
  },
  {
   "cell_type": "code",
   "execution_count": 55,
   "metadata": {},
   "outputs": [
    {
     "data": {
      "text/html": [
       "<div>\n",
       "<style scoped>\n",
       "    .dataframe tbody tr th:only-of-type {\n",
       "        vertical-align: middle;\n",
       "    }\n",
       "\n",
       "    .dataframe tbody tr th {\n",
       "        vertical-align: top;\n",
       "    }\n",
       "\n",
       "    .dataframe thead th {\n",
       "        text-align: right;\n",
       "    }\n",
       "</style>\n",
       "<table border=\"1\" class=\"dataframe\">\n",
       "  <thead>\n",
       "    <tr style=\"text-align: right;\">\n",
       "      <th></th>\n",
       "      <th>cell_id</th>\n",
       "      <th>parent_label</th>\n",
       "      <th>genotype</th>\n",
       "      <th>sample_id</th>\n",
       "      <th>stage</th>\n",
       "      <th>cell_length_x</th>\n",
       "      <th>cell_length_y</th>\n",
       "      <th>cell_length_z</th>\n",
       "      <th>cell_wall_area</th>\n",
       "      <th>number_of_neighbors</th>\n",
       "      <th>outside_wall_area</th>\n",
       "      <th>outside_wall_area_ratio</th>\n",
       "      <th>volume</th>\n",
       "    </tr>\n",
       "  </thead>\n",
       "  <tbody>\n",
       "    <tr>\n",
       "      <th>0</th>\n",
       "      <td>1835</td>\n",
       "      <td>7</td>\n",
       "      <td>ChiOX</td>\n",
       "      <td>1793</td>\n",
       "      <td>3-IV</td>\n",
       "      <td>6.00088</td>\n",
       "      <td>5.29523</td>\n",
       "      <td>6.09765</td>\n",
       "      <td>148.201</td>\n",
       "      <td>3</td>\n",
       "      <td>108.799</td>\n",
       "      <td>0.734131</td>\n",
       "      <td>142.288</td>\n",
       "    </tr>\n",
       "    <tr>\n",
       "      <th>1</th>\n",
       "      <td>1838</td>\n",
       "      <td>7</td>\n",
       "      <td>ChiOX</td>\n",
       "      <td>1793</td>\n",
       "      <td>3-IV</td>\n",
       "      <td>5.57317</td>\n",
       "      <td>4.97323</td>\n",
       "      <td>8.43972</td>\n",
       "      <td>147.736</td>\n",
       "      <td>7</td>\n",
       "      <td>105.308</td>\n",
       "      <td>0.712816</td>\n",
       "      <td>131.511</td>\n",
       "    </tr>\n",
       "    <tr>\n",
       "      <th>2</th>\n",
       "      <td>1842</td>\n",
       "      <td>7</td>\n",
       "      <td>ChiOX</td>\n",
       "      <td>1793</td>\n",
       "      <td>3-IV</td>\n",
       "      <td>7.01422</td>\n",
       "      <td>5.10685</td>\n",
       "      <td>9.65658</td>\n",
       "      <td>205.962</td>\n",
       "      <td>9</td>\n",
       "      <td>101.471</td>\n",
       "      <td>0.492667</td>\n",
       "      <td>228.485</td>\n",
       "    </tr>\n",
       "    <tr>\n",
       "      <th>3</th>\n",
       "      <td>1846</td>\n",
       "      <td>7</td>\n",
       "      <td>ChiOX</td>\n",
       "      <td>1793</td>\n",
       "      <td>3-IV</td>\n",
       "      <td>6.57697</td>\n",
       "      <td>4.84003</td>\n",
       "      <td>10.2757</td>\n",
       "      <td>221.655</td>\n",
       "      <td>13</td>\n",
       "      <td>114.535</td>\n",
       "      <td>0.516727</td>\n",
       "      <td>245.79</td>\n",
       "    </tr>\n",
       "    <tr>\n",
       "      <th>4</th>\n",
       "      <td>1847</td>\n",
       "      <td>7</td>\n",
       "      <td>ChiOX</td>\n",
       "      <td>1793</td>\n",
       "      <td>3-IV</td>\n",
       "      <td>5.87977</td>\n",
       "      <td>5.71539</td>\n",
       "      <td>6.19016</td>\n",
       "      <td>135.858</td>\n",
       "      <td>7</td>\n",
       "      <td>69.4824</td>\n",
       "      <td>0.511433</td>\n",
       "      <td>132.188</td>\n",
       "    </tr>\n",
       "  </tbody>\n",
       "</table>\n",
       "</div>"
      ],
      "text/plain": [
       "   cell_id  parent_label genotype  sample_id stage cell_length_x  \\\n",
       "0     1835             7    ChiOX       1793  3-IV       6.00088   \n",
       "1     1838             7    ChiOX       1793  3-IV       5.57317   \n",
       "2     1842             7    ChiOX       1793  3-IV       7.01422   \n",
       "3     1846             7    ChiOX       1793  3-IV       6.57697   \n",
       "4     1847             7    ChiOX       1793  3-IV       5.87977   \n",
       "\n",
       "  cell_length_y cell_length_z cell_wall_area  number_of_neighbors  \\\n",
       "0       5.29523       6.09765        148.201                    3   \n",
       "1       4.97323       8.43972        147.736                    7   \n",
       "2       5.10685       9.65658        205.962                    9   \n",
       "3       4.84003       10.2757        221.655                   13   \n",
       "4       5.71539       6.19016        135.858                    7   \n",
       "\n",
       "  outside_wall_area outside_wall_area_ratio   volume  \n",
       "0           108.799                0.734131  142.288  \n",
       "1           105.308                0.712816  131.511  \n",
       "2           101.471                0.492667  228.485  \n",
       "3           114.535                0.516727   245.79  \n",
       "4           69.4824                0.511433  132.188  "
      ]
     },
     "execution_count": 55,
     "metadata": {},
     "output_type": "execute_result"
    }
   ],
   "source": [
    "df.head()"
   ]
  }
 ],
 "metadata": {
  "kernelspec": {
   "display_name": ".venv",
   "language": "python",
   "name": "python3"
  },
  "language_info": {
   "codemirror_mode": {
    "name": "ipython",
    "version": 3
   },
   "file_extension": ".py",
   "mimetype": "text/x-python",
   "name": "python",
   "nbconvert_exporter": "python",
   "pygments_lexer": "ipython3",
   "version": "3.10.2"
  },
  "vscode": {
   "interpreter": {
    "hash": "ab501cf9e8570b39439f7cab19917b893ff7ddab3c58e66cf710fa72ed0d0121"
   }
  }
 },
 "nbformat": 4,
 "nbformat_minor": 0
}
