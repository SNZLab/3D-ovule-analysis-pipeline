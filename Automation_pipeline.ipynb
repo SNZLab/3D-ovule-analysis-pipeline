{
 "cells": [
  {
   "cell_type": "code",
   "execution_count": 1,
   "metadata": {
    "collapsed": true
   },
   "outputs": [],
   "source": [
    "import psycopg2\n",
    "import numpy as np\n",
    "import pandas as pd"
   ]
  },
  {
   "cell_type": "code",
   "execution_count": 2,
   "metadata": {
    "collapsed": false,
    "pycharm": {
     "name": "#%%\n"
    }
   },
   "outputs": [],
   "source": [
    "# Connect to database\n",
    "con = psycopg2.connect(\"dbname='SNZLab' user='postgres' host='localhost' password='PlantDevSchnLab112022'\")\n",
    "\n",
    "# Open a cursor to perform database operations\n",
    "cur = con.cursor()\n",
    "\n",
    "# Execute a command\n",
    "cur.execute(\"SELECT * FROM cell_attributes\")"
   ]
  },
  {
   "cell_type": "code",
   "execution_count": 3,
   "metadata": {
    "collapsed": false,
    "pycharm": {
     "name": "#%%\n"
    }
   },
   "outputs": [],
   "source": [
    "# Obtain data as python opject\n",
    "\n",
    "# Obtain first row of data table\n",
    "# first_col = cur.fetchone()\n",
    "\n",
    "# Obtain all rows\n",
    "cell_attributes = cur.fetchall()\n",
    "\n",
    "# Obtain column names\n",
    "colnames = [desc[0] for desc in cur.description]"
   ]
  },
  {
   "cell_type": "code",
   "execution_count": 4,
   "metadata": {},
   "outputs": [],
   "source": [
    "# Create pandas DataFrame from list of tuples\n",
    "df = pd.DataFrame(cell_attributes)\n",
    "\n",
    "# Add column names to respective columns\n",
    "df.columns = colnames"
   ]
  },
  {
   "cell_type": "code",
   "execution_count": 41,
   "metadata": {},
   "outputs": [
    {
     "data": {
      "text/html": [
       "<div>\n",
       "<style scoped>\n",
       "    .dataframe tbody tr th:only-of-type {\n",
       "        vertical-align: middle;\n",
       "    }\n",
       "\n",
       "    .dataframe tbody tr th {\n",
       "        vertical-align: top;\n",
       "    }\n",
       "\n",
       "    .dataframe thead th {\n",
       "        text-align: right;\n",
       "    }\n",
       "</style>\n",
       "<table border=\"1\" class=\"dataframe\">\n",
       "  <thead>\n",
       "    <tr style=\"text-align: right;\">\n",
       "      <th></th>\n",
       "      <th>cell_id</th>\n",
       "      <th>parent_label</th>\n",
       "      <th>genotype</th>\n",
       "      <th>sample_id</th>\n",
       "      <th>stage</th>\n",
       "      <th>cell_length_x</th>\n",
       "      <th>cell_length_y</th>\n",
       "      <th>cell_length_z</th>\n",
       "      <th>cell_wall_area</th>\n",
       "      <th>number_of_neighbors</th>\n",
       "      <th>outside_wall_area</th>\n",
       "      <th>outside_wall_area_ratio</th>\n",
       "      <th>volume</th>\n",
       "      <th>parent_name</th>\n",
       "      <th>tissue_label</th>\n",
       "    </tr>\n",
       "  </thead>\n",
       "  <tbody>\n",
       "    <tr>\n",
       "      <th>0</th>\n",
       "      <td>1835</td>\n",
       "      <td>7</td>\n",
       "      <td>ChiOX</td>\n",
       "      <td>1793</td>\n",
       "      <td>3-IV</td>\n",
       "      <td>6.00088</td>\n",
       "      <td>5.29523</td>\n",
       "      <td>6.09765</td>\n",
       "      <td>148.201</td>\n",
       "      <td>3</td>\n",
       "      <td>108.799</td>\n",
       "      <td>0.734131</td>\n",
       "      <td>142.288</td>\n",
       "      <td>fu</td>\n",
       "      <td>fu</td>\n",
       "    </tr>\n",
       "    <tr>\n",
       "      <th>1</th>\n",
       "      <td>1838</td>\n",
       "      <td>7</td>\n",
       "      <td>ChiOX</td>\n",
       "      <td>1793</td>\n",
       "      <td>3-IV</td>\n",
       "      <td>5.57317</td>\n",
       "      <td>4.97323</td>\n",
       "      <td>8.43972</td>\n",
       "      <td>147.736</td>\n",
       "      <td>7</td>\n",
       "      <td>105.308</td>\n",
       "      <td>0.712816</td>\n",
       "      <td>131.511</td>\n",
       "      <td>fu</td>\n",
       "      <td>fu</td>\n",
       "    </tr>\n",
       "    <tr>\n",
       "      <th>2</th>\n",
       "      <td>1842</td>\n",
       "      <td>7</td>\n",
       "      <td>ChiOX</td>\n",
       "      <td>1793</td>\n",
       "      <td>3-IV</td>\n",
       "      <td>7.01422</td>\n",
       "      <td>5.10685</td>\n",
       "      <td>9.65658</td>\n",
       "      <td>205.962</td>\n",
       "      <td>9</td>\n",
       "      <td>101.471</td>\n",
       "      <td>0.492667</td>\n",
       "      <td>228.485</td>\n",
       "      <td>fu</td>\n",
       "      <td>fu</td>\n",
       "    </tr>\n",
       "    <tr>\n",
       "      <th>3</th>\n",
       "      <td>1846</td>\n",
       "      <td>7</td>\n",
       "      <td>ChiOX</td>\n",
       "      <td>1793</td>\n",
       "      <td>3-IV</td>\n",
       "      <td>6.57697</td>\n",
       "      <td>4.84003</td>\n",
       "      <td>10.2757</td>\n",
       "      <td>221.655</td>\n",
       "      <td>13</td>\n",
       "      <td>114.535</td>\n",
       "      <td>0.516727</td>\n",
       "      <td>245.79</td>\n",
       "      <td>fu</td>\n",
       "      <td>fu</td>\n",
       "    </tr>\n",
       "    <tr>\n",
       "      <th>4</th>\n",
       "      <td>1847</td>\n",
       "      <td>7</td>\n",
       "      <td>ChiOX</td>\n",
       "      <td>1793</td>\n",
       "      <td>3-IV</td>\n",
       "      <td>5.87977</td>\n",
       "      <td>5.71539</td>\n",
       "      <td>6.19016</td>\n",
       "      <td>135.858</td>\n",
       "      <td>7</td>\n",
       "      <td>69.4824</td>\n",
       "      <td>0.511433</td>\n",
       "      <td>132.188</td>\n",
       "      <td>fu</td>\n",
       "      <td>fu</td>\n",
       "    </tr>\n",
       "  </tbody>\n",
       "</table>\n",
       "</div>"
      ],
      "text/plain": [
       "   cell_id  parent_label genotype  sample_id stage cell_length_x  \\\n",
       "0     1835             7    ChiOX       1793  3-IV       6.00088   \n",
       "1     1838             7    ChiOX       1793  3-IV       5.57317   \n",
       "2     1842             7    ChiOX       1793  3-IV       7.01422   \n",
       "3     1846             7    ChiOX       1793  3-IV       6.57697   \n",
       "4     1847             7    ChiOX       1793  3-IV       5.87977   \n",
       "\n",
       "  cell_length_y cell_length_z cell_wall_area  number_of_neighbors  \\\n",
       "0       5.29523       6.09765        148.201                    3   \n",
       "1       4.97323       8.43972        147.736                    7   \n",
       "2       5.10685       9.65658        205.962                    9   \n",
       "3       4.84003       10.2757        221.655                   13   \n",
       "4       5.71539       6.19016        135.858                    7   \n",
       "\n",
       "  outside_wall_area outside_wall_area_ratio   volume parent_name tissue_label  \n",
       "0           108.799                0.734131  142.288          fu           fu  \n",
       "1           105.308                0.712816  131.511          fu           fu  \n",
       "2           101.471                0.492667  228.485          fu           fu  \n",
       "3           114.535                0.516727   245.79          fu           fu  \n",
       "4           69.4824                0.511433  132.188          fu           fu  "
      ]
     },
     "execution_count": 41,
     "metadata": {},
     "output_type": "execute_result"
    }
   ],
   "source": [
    "df.head()"
   ]
  },
  {
   "cell_type": "code",
   "execution_count": null,
   "metadata": {},
   "outputs": [],
   "source": [
    "# Add parent and tissue label according to variable \"parent_id\"\n",
    "df['parent_name']=df['parent_label'].apply(lambda x: 'oi2' if x==1 else ('oi1' if x==2 else ('ii2' if x==3 else ('ii1' if x==4 else ('nu' if x==5 else ('PCh' if x==6 else ('fu' if x==7 else ('es' if x==8 else ('pl' if x==9 else 'ACh')))))))))\n",
    "df['tissue_label'] = df['parent_label'].apply(lambda x: 'oi' if x==1 or x==2 else ('ii' if x==3 or x==4 else ('ch' if x==6 or x==10 else ('nu' if x==5 else ('fu' if x==7 else ('es' if x==8 else 'pl'))))))"
   ]
  },
  {
   "cell_type": "code",
   "execution_count": 42,
   "metadata": {},
   "outputs": [
    {
     "name": "stdout",
     "output_type": "stream",
     "text": [
      "1793    1803\n",
      "Name: sample_id, dtype: int64\n"
     ]
    }
   ],
   "source": [
    "# Count unique values in variable \"sample_id\"\n",
    "count_sample = df['sample_id'].value_counts()\n",
    "print(count_sample)"
   ]
  },
  {
   "cell_type": "code",
   "execution_count": 43,
   "metadata": {},
   "outputs": [
    {
     "name": "stdout",
     "output_type": "stream",
     "text": [
      "   sample_id stage          volume\n",
      "0       1793  3-IV  549413.2776469\n"
     ]
    }
   ],
   "source": [
    "# Group by variables \"sample_id\", \"stage\" and sum up the volume\n",
    "volume_sample = df.groupby(['sample_id', 'stage'])['volume'].sum().reset_index()\n",
    "print(volume_sample)"
   ]
  },
  {
   "cell_type": "code",
   "execution_count": 44,
   "metadata": {},
   "outputs": [
    {
     "name": "stdout",
     "output_type": "stream",
     "text": [
      "  stage  sample_id tissue_label         volume\n",
      "0  3-IV       1793           ch   89611.349193\n",
      "1  3-IV       1793           es         5820.9\n",
      "2  3-IV       1793           fu   84846.750602\n",
      "3  3-IV       1793           ii     82750.5200\n",
      "4  3-IV       1793           nu    13064.33455\n",
      "5  3-IV       1793           oi  265555.296438\n",
      "6  3-IV       1793           pl   7764.1268639\n"
     ]
    }
   ],
   "source": [
    "# Group by variables \"sample_id\", \"stage\" and sum up the volume\n",
    "tissue_volume_sample = df.groupby(['stage', 'sample_id', 'tissue_label'])['volume'].sum().reset_index()\n",
    "print(tissue_volume_sample)"
   ]
  },
  {
   "cell_type": "code",
   "execution_count": 45,
   "metadata": {},
   "outputs": [
    {
     "name": "stdout",
     "output_type": "stream",
     "text": [
      "sample_id  stage  parent_label\n",
      "1793       3-IV   0                29\n",
      "                  1               238\n",
      "                  2               188\n",
      "                  3               140\n",
      "                  4               126\n",
      "                  5                92\n",
      "                  6               261\n",
      "                  7               528\n",
      "                  8                 1\n",
      "                  10              171\n",
      "                  14               29\n",
      "Name: parent_label, dtype: int64\n"
     ]
    }
   ],
   "source": [
    "# Group by variables \"sample_id\", \"stage\" and count unique values in variable \"parent\"\n",
    "count_parent_by_sample = df.groupby(['sample_id', 'stage'])['parent_label'].value_counts().sort_index(ascending=True)\n",
    "print(count_parent_by_sample)"
   ]
  },
  {
   "cell_type": "code",
   "execution_count": 32,
   "metadata": {},
   "outputs": [
    {
     "name": "stdout",
     "output_type": "stream",
     "text": [
      "stage  sample_id\n",
      "3-IV   1793         1803\n",
      "Name: sample_id, dtype: int64\n"
     ]
    }
   ],
   "source": [
    "# Group by variables \"stage\" and count unique values in variable \"sample_id\"\n",
    "count_sample_by_stage = df.groupby(['stage'])['sample_id'].value_counts()\n",
    "print(count_sample_by_stage)"
   ]
  }
 ],
 "metadata": {
  "kernelspec": {
   "display_name": ".venv",
   "language": "python",
   "name": "python3"
  },
  "language_info": {
   "codemirror_mode": {
    "name": "ipython",
    "version": 3
   },
   "file_extension": ".py",
   "mimetype": "text/x-python",
   "name": "python",
   "nbconvert_exporter": "python",
   "pygments_lexer": "ipython3",
   "version": "3.10.2"
  },
  "vscode": {
   "interpreter": {
    "hash": "ab501cf9e8570b39439f7cab19917b893ff7ddab3c58e66cf710fa72ed0d0121"
   }
  }
 },
 "nbformat": 4,
 "nbformat_minor": 0
}
