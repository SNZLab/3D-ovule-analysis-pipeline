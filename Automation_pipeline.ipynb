{
 "cells": [
  {
   "cell_type": "code",
   "execution_count": 46,
   "metadata": {
    "collapsed": true
   },
   "outputs": [],
   "source": [
    "import psycopg2\n",
    "import numpy as np\n",
    "import pandas as pd\n",
    "import matplotlib.pyplot as plt\n",
    "import matplotlib.ticker as ticker\n",
    "import seaborn as sns"
   ]
  },
  {
   "attachments": {},
   "cell_type": "markdown",
   "metadata": {},
   "source": [
    "Statistical analyses based on dataset \"cell_attributes\""
   ]
  },
  {
   "cell_type": "code",
   "execution_count": 2,
   "metadata": {
    "collapsed": false,
    "pycharm": {
     "name": "#%%\n"
    }
   },
   "outputs": [],
   "source": [
    "# Connect to database\n",
    "con = psycopg2.connect(\"dbname='SNZLab' user='postgres' host='localhost' password='PlantDevSchnLab112022'\")\n",
    "\n",
    "# Open a cursor to perform database operations\n",
    "cur = con.cursor()"
   ]
  },
  {
   "cell_type": "code",
   "execution_count": 3,
   "metadata": {
    "collapsed": false,
    "pycharm": {
     "name": "#%%\n"
    }
   },
   "outputs": [],
   "source": [
    "# Execute a command\n",
    "# Load data from table cell_attributes\n",
    "cur.execute(\"SELECT * FROM cell_attributes\")\n",
    "\n",
    "# Obtain data as python object\n",
    "\n",
    "# Obtain first row of data table\n",
    "# first_col = cur.fetchone()\n",
    "\n",
    "# Obtain all rows of data table\n",
    "cell_attributes = cur.fetchall()\n",
    "\n",
    "# Obtain column names\n",
    "colnames = [desc[0] for desc in cur.description]"
   ]
  },
  {
   "cell_type": "code",
   "execution_count": 4,
   "metadata": {},
   "outputs": [],
   "source": [
    "# Create pandas DataFrame from list of tuples\n",
    "df = pd.DataFrame(cell_attributes)\n",
    "\n",
    "# Add column names to respective columns\n",
    "df.columns = colnames\n",
    "\n",
    "# Display first five rows of pandas DataFrame\n",
    "df.head()"
   ]
  },
  {
   "cell_type": "code",
   "execution_count": 14,
   "metadata": {},
   "outputs": [
    {
     "data": {
      "text/html": [
       "<div>\n",
       "<style scoped>\n",
       "    .dataframe tbody tr th:only-of-type {\n",
       "        vertical-align: middle;\n",
       "    }\n",
       "\n",
       "    .dataframe tbody tr th {\n",
       "        vertical-align: top;\n",
       "    }\n",
       "\n",
       "    .dataframe thead th {\n",
       "        text-align: right;\n",
       "    }\n",
       "</style>\n",
       "<table border=\"1\" class=\"dataframe\">\n",
       "  <thead>\n",
       "    <tr style=\"text-align: right;\">\n",
       "      <th></th>\n",
       "      <th>cell_id</th>\n",
       "      <th>parent_label</th>\n",
       "      <th>genotype</th>\n",
       "      <th>sample_id</th>\n",
       "      <th>stage</th>\n",
       "      <th>cell_length_x</th>\n",
       "      <th>cell_length_y</th>\n",
       "      <th>cell_length_z</th>\n",
       "      <th>cell_wall_area</th>\n",
       "      <th>number_of_neighbors</th>\n",
       "      <th>outside_wall_area</th>\n",
       "      <th>outside_wall_area_ratio</th>\n",
       "      <th>volume</th>\n",
       "      <th>parent_name</th>\n",
       "      <th>tissue_label</th>\n",
       "    </tr>\n",
       "  </thead>\n",
       "  <tbody>\n",
       "    <tr>\n",
       "      <th>0</th>\n",
       "      <td>1835</td>\n",
       "      <td>7</td>\n",
       "      <td>ChiOX</td>\n",
       "      <td>1793</td>\n",
       "      <td>3-IV</td>\n",
       "      <td>6.00088</td>\n",
       "      <td>5.29523</td>\n",
       "      <td>6.09765</td>\n",
       "      <td>148.201</td>\n",
       "      <td>3</td>\n",
       "      <td>108.799</td>\n",
       "      <td>0.734131</td>\n",
       "      <td>142.288</td>\n",
       "      <td>fu</td>\n",
       "      <td>fu</td>\n",
       "    </tr>\n",
       "    <tr>\n",
       "      <th>1</th>\n",
       "      <td>1838</td>\n",
       "      <td>7</td>\n",
       "      <td>ChiOX</td>\n",
       "      <td>1793</td>\n",
       "      <td>3-IV</td>\n",
       "      <td>5.57317</td>\n",
       "      <td>4.97323</td>\n",
       "      <td>8.43972</td>\n",
       "      <td>147.736</td>\n",
       "      <td>7</td>\n",
       "      <td>105.308</td>\n",
       "      <td>0.712816</td>\n",
       "      <td>131.511</td>\n",
       "      <td>fu</td>\n",
       "      <td>fu</td>\n",
       "    </tr>\n",
       "    <tr>\n",
       "      <th>2</th>\n",
       "      <td>1842</td>\n",
       "      <td>7</td>\n",
       "      <td>ChiOX</td>\n",
       "      <td>1793</td>\n",
       "      <td>3-IV</td>\n",
       "      <td>7.01422</td>\n",
       "      <td>5.10685</td>\n",
       "      <td>9.65658</td>\n",
       "      <td>205.962</td>\n",
       "      <td>9</td>\n",
       "      <td>101.471</td>\n",
       "      <td>0.492667</td>\n",
       "      <td>228.485</td>\n",
       "      <td>fu</td>\n",
       "      <td>fu</td>\n",
       "    </tr>\n",
       "    <tr>\n",
       "      <th>3</th>\n",
       "      <td>1846</td>\n",
       "      <td>7</td>\n",
       "      <td>ChiOX</td>\n",
       "      <td>1793</td>\n",
       "      <td>3-IV</td>\n",
       "      <td>6.57697</td>\n",
       "      <td>4.84003</td>\n",
       "      <td>10.2757</td>\n",
       "      <td>221.655</td>\n",
       "      <td>13</td>\n",
       "      <td>114.535</td>\n",
       "      <td>0.516727</td>\n",
       "      <td>245.79</td>\n",
       "      <td>fu</td>\n",
       "      <td>fu</td>\n",
       "    </tr>\n",
       "    <tr>\n",
       "      <th>4</th>\n",
       "      <td>1847</td>\n",
       "      <td>7</td>\n",
       "      <td>ChiOX</td>\n",
       "      <td>1793</td>\n",
       "      <td>3-IV</td>\n",
       "      <td>5.87977</td>\n",
       "      <td>5.71539</td>\n",
       "      <td>6.19016</td>\n",
       "      <td>135.858</td>\n",
       "      <td>7</td>\n",
       "      <td>69.4824</td>\n",
       "      <td>0.511433</td>\n",
       "      <td>132.188</td>\n",
       "      <td>fu</td>\n",
       "      <td>fu</td>\n",
       "    </tr>\n",
       "  </tbody>\n",
       "</table>\n",
       "</div>"
      ],
      "text/plain": [
       "   cell_id  parent_label genotype  sample_id stage cell_length_x  \\\n",
       "0     1835             7    ChiOX       1793  3-IV       6.00088   \n",
       "1     1838             7    ChiOX       1793  3-IV       5.57317   \n",
       "2     1842             7    ChiOX       1793  3-IV       7.01422   \n",
       "3     1846             7    ChiOX       1793  3-IV       6.57697   \n",
       "4     1847             7    ChiOX       1793  3-IV       5.87977   \n",
       "\n",
       "  cell_length_y cell_length_z cell_wall_area  number_of_neighbors  \\\n",
       "0       5.29523       6.09765        148.201                    3   \n",
       "1       4.97323       8.43972        147.736                    7   \n",
       "2       5.10685       9.65658        205.962                    9   \n",
       "3       4.84003       10.2757        221.655                   13   \n",
       "4       5.71539       6.19016        135.858                    7   \n",
       "\n",
       "  outside_wall_area outside_wall_area_ratio   volume parent_name tissue_label  \n",
       "0           108.799                0.734131  142.288          fu           fu  \n",
       "1           105.308                0.712816  131.511          fu           fu  \n",
       "2           101.471                0.492667  228.485          fu           fu  \n",
       "3           114.535                0.516727   245.79          fu           fu  \n",
       "4           69.4824                0.511433  132.188          fu           fu  "
      ]
     },
     "execution_count": 14,
     "metadata": {},
     "output_type": "execute_result"
    }
   ],
   "source": [
    "# Add parent and tissue label according to variable \"parent_id\"\n",
    "df['parent_name']=df['parent_label'].apply(lambda x: 'oi2' if x==1 else ('oi1' if x==2 else ('ii2' if x==3 else ('ii1' if x==4 else ('nu' if x==5 else ('PCh' if x==6 else ('fu' if x==7 else ('es' if x==8 else ('pl' if x==9 else 'ACh')))))))))\n",
    "df['tissue_label'] = df['parent_label'].apply(lambda x: 'oi' if x==1 or x==2 else ('ii' if x==3 or x==4 else ('ch' if x==6 or x==10 else ('nu' if x==5 else ('fu' if x==7 else ('es' if x==8 else 'pl'))))))\n",
    "df.head()"
   ]
  },
  {
   "cell_type": "code",
   "execution_count": 8,
   "metadata": {},
   "outputs": [
    {
     "name": "stdout",
     "output_type": "stream",
     "text": [
      "1793    1803\n",
      "Name: sample_id, dtype: int64\n"
     ]
    }
   ],
   "source": [
    "# Count unique values in variable \"sample_id\"\n",
    "count_sample = df['sample_id'].value_counts()\n",
    "print(count_sample)"
   ]
  },
  {
   "cell_type": "code",
   "execution_count": 9,
   "metadata": {},
   "outputs": [
    {
     "name": "stdout",
     "output_type": "stream",
     "text": [
      "   sample_id stage          volume\n",
      "0       1793  3-IV  549413.2776469\n"
     ]
    }
   ],
   "source": [
    "# Group by variables \"sample_id\", \"stage\" and sum up the volume\n",
    "volume_sample = df.groupby(['sample_id', 'stage'])['volume'].sum().reset_index()\n",
    "print(volume_sample)"
   ]
  },
  {
   "cell_type": "code",
   "execution_count": 10,
   "metadata": {},
   "outputs": [
    {
     "name": "stdout",
     "output_type": "stream",
     "text": [
      "  stage  sample_id tissue_label         volume\n",
      "0  3-IV       1793           ch   89611.349193\n",
      "1  3-IV       1793           es         5820.9\n",
      "2  3-IV       1793           fu   84846.750602\n",
      "3  3-IV       1793           ii     82750.5200\n",
      "4  3-IV       1793           nu    13064.33455\n",
      "5  3-IV       1793           oi  265555.296438\n",
      "6  3-IV       1793           pl   7764.1268639\n"
     ]
    }
   ],
   "source": [
    "# Group by variables \"sample_id\", \"stage\" and sum up the volume\n",
    "tissue_volume_sample = df.groupby(['stage', 'sample_id', 'tissue_label'])['volume'].sum().reset_index()\n",
    "print(tissue_volume_sample)"
   ]
  },
  {
   "cell_type": "code",
   "execution_count": 11,
   "metadata": {},
   "outputs": [
    {
     "name": "stdout",
     "output_type": "stream",
     "text": [
      "sample_id  stage  parent_label\n",
      "1793       3-IV   0                29\n",
      "                  1               238\n",
      "                  2               188\n",
      "                  3               140\n",
      "                  4               126\n",
      "                  5                92\n",
      "                  6               261\n",
      "                  7               528\n",
      "                  8                 1\n",
      "                  10              171\n",
      "                  14               29\n",
      "Name: parent_label, dtype: int64\n"
     ]
    }
   ],
   "source": [
    "# Group by variables \"sample_id\", \"stage\" and count unique values in variable \"parent\"\n",
    "count_parent_by_sample = df.groupby(['sample_id', 'stage'])['parent_label'].value_counts().sort_index(ascending=True)\n",
    "print(count_parent_by_sample)"
   ]
  },
  {
   "cell_type": "code",
   "execution_count": 12,
   "metadata": {},
   "outputs": [
    {
     "name": "stdout",
     "output_type": "stream",
     "text": [
      "stage  sample_id\n",
      "3-IV   1793         1803\n",
      "Name: sample_id, dtype: int64\n"
     ]
    }
   ],
   "source": [
    "# Group by variables \"stage\" and count unique values in variable \"sample_id\"\n",
    "count_sample_by_stage = df.groupby(['stage'])['sample_id'].value_counts()\n",
    "print(count_sample_by_stage)"
   ]
  },
  {
   "attachments": {},
   "cell_type": "markdown",
   "metadata": {},
   "source": [
    "Statistical analyses based on dataset \"V12_Platinum_158_dataset_All_stages\""
   ]
  },
  {
   "cell_type": "code",
   "execution_count": 15,
   "metadata": {},
   "outputs": [],
   "source": [
    "# Execute a command\n",
    "# Load data from table cell_attributes\n",
    "cur.execute(\"SELECT * FROM v12_platinum_158_dataset\")\n",
    "\n",
    "# Obtain data as python object\n",
    "\n",
    "# Obtain first row of data table\n",
    "# first_col = cur.fetchone()\n",
    "\n",
    "# Obtain all rows of data table\n",
    "cell_attributes = cur.fetchall()\n",
    "\n",
    "# Obtain column names\n",
    "colnames = [desc[0] for desc in cur.description]"
   ]
  },
  {
   "cell_type": "code",
   "execution_count": 16,
   "metadata": {},
   "outputs": [
    {
     "data": {
      "text/html": [
       "<div>\n",
       "<style scoped>\n",
       "    .dataframe tbody tr th:only-of-type {\n",
       "        vertical-align: middle;\n",
       "    }\n",
       "\n",
       "    .dataframe tbody tr th {\n",
       "        vertical-align: top;\n",
       "    }\n",
       "\n",
       "    .dataframe thead th {\n",
       "        text-align: right;\n",
       "    }\n",
       "</style>\n",
       "<table border=\"1\" class=\"dataframe\">\n",
       "  <thead>\n",
       "    <tr style=\"text-align: right;\">\n",
       "      <th></th>\n",
       "      <th>genotype</th>\n",
       "      <th>stage</th>\n",
       "      <th>pistil_id</th>\n",
       "      <th>ovule_id</th>\n",
       "      <th>cell_id</th>\n",
       "      <th>cell_type</th>\n",
       "      <th>cell_vol</th>\n",
       "      <th>cell_cycle</th>\n",
       "      <th>pd_pol_integ</th>\n",
       "      <th>dv_pol_ovule</th>\n",
       "      <th>distance_coordinate</th>\n",
       "      <th>max_pds_length</th>\n",
       "      <th>min_pds_length</th>\n",
       "      <th>ovule_metadata</th>\n",
       "      <th>cell_metadata</th>\n",
       "      <th>manual_proofread</th>\n",
       "      <th>unnamed_16</th>\n",
       "    </tr>\n",
       "  </thead>\n",
       "  <tbody>\n",
       "    <tr>\n",
       "      <th>0</th>\n",
       "      <td>Col-0</td>\n",
       "      <td>1-II</td>\n",
       "      <td>290_7x</td>\n",
       "      <td>290_D</td>\n",
       "      <td>4163.0</td>\n",
       "      <td>L2</td>\n",
       "      <td>309.7</td>\n",
       "      <td>I</td>\n",
       "      <td>None</td>\n",
       "      <td>None</td>\n",
       "      <td>23.557</td>\n",
       "      <td>None</td>\n",
       "      <td>None</td>\n",
       "      <td>X290_D_dist</td>\n",
       "      <td>32.0</td>\n",
       "      <td>None</td>\n",
       "      <td>None</td>\n",
       "    </tr>\n",
       "    <tr>\n",
       "      <th>1</th>\n",
       "      <td>Col-0</td>\n",
       "      <td>1-II</td>\n",
       "      <td>290_7x</td>\n",
       "      <td>290_D</td>\n",
       "      <td>2154.0</td>\n",
       "      <td>L2</td>\n",
       "      <td>281.825</td>\n",
       "      <td>I</td>\n",
       "      <td>None</td>\n",
       "      <td>None</td>\n",
       "      <td>20.8733</td>\n",
       "      <td>None</td>\n",
       "      <td>None</td>\n",
       "      <td>X290_D_dist</td>\n",
       "      <td>32.0</td>\n",
       "      <td>None</td>\n",
       "      <td>None</td>\n",
       "    </tr>\n",
       "    <tr>\n",
       "      <th>2</th>\n",
       "      <td>Col-0</td>\n",
       "      <td>1-II</td>\n",
       "      <td>290_7x</td>\n",
       "      <td>290_D</td>\n",
       "      <td>63.0</td>\n",
       "      <td>L2</td>\n",
       "      <td>237.621</td>\n",
       "      <td>I</td>\n",
       "      <td>None</td>\n",
       "      <td>None</td>\n",
       "      <td>23.3274</td>\n",
       "      <td>None</td>\n",
       "      <td>None</td>\n",
       "      <td>X290_D_dist</td>\n",
       "      <td>32.0</td>\n",
       "      <td>None</td>\n",
       "      <td>None</td>\n",
       "    </tr>\n",
       "    <tr>\n",
       "      <th>3</th>\n",
       "      <td>Col-0</td>\n",
       "      <td>1-II</td>\n",
       "      <td>290_7x</td>\n",
       "      <td>290_D</td>\n",
       "      <td>3838.0</td>\n",
       "      <td>L2</td>\n",
       "      <td>232.475</td>\n",
       "      <td>I</td>\n",
       "      <td>None</td>\n",
       "      <td>None</td>\n",
       "      <td>26.291</td>\n",
       "      <td>None</td>\n",
       "      <td>None</td>\n",
       "      <td>X290_D_dist</td>\n",
       "      <td>32.0</td>\n",
       "      <td>None</td>\n",
       "      <td>None</td>\n",
       "    </tr>\n",
       "    <tr>\n",
       "      <th>4</th>\n",
       "      <td>Col-0</td>\n",
       "      <td>1-II</td>\n",
       "      <td>290_7x</td>\n",
       "      <td>290_D</td>\n",
       "      <td>1192.0</td>\n",
       "      <td>L1</td>\n",
       "      <td>212.399</td>\n",
       "      <td>I</td>\n",
       "      <td>None</td>\n",
       "      <td>None</td>\n",
       "      <td>22.6154</td>\n",
       "      <td>None</td>\n",
       "      <td>None</td>\n",
       "      <td>X290_D_dist</td>\n",
       "      <td>31.0</td>\n",
       "      <td>None</td>\n",
       "      <td>None</td>\n",
       "    </tr>\n",
       "  </tbody>\n",
       "</table>\n",
       "</div>"
      ],
      "text/plain": [
       "  genotype stage pistil_id ovule_id cell_id cell_type cell_vol cell_cycle  \\\n",
       "0    Col-0  1-II    290_7x    290_D  4163.0        L2    309.7          I   \n",
       "1    Col-0  1-II    290_7x    290_D  2154.0        L2  281.825          I   \n",
       "2    Col-0  1-II    290_7x    290_D    63.0        L2  237.621          I   \n",
       "3    Col-0  1-II    290_7x    290_D  3838.0        L2  232.475          I   \n",
       "4    Col-0  1-II    290_7x    290_D  1192.0        L1  212.399          I   \n",
       "\n",
       "  pd_pol_integ dv_pol_ovule distance_coordinate max_pds_length min_pds_length  \\\n",
       "0         None         None              23.557           None           None   \n",
       "1         None         None             20.8733           None           None   \n",
       "2         None         None             23.3274           None           None   \n",
       "3         None         None              26.291           None           None   \n",
       "4         None         None             22.6154           None           None   \n",
       "\n",
       "  ovule_metadata cell_metadata manual_proofread unnamed_16  \n",
       "0    X290_D_dist          32.0             None       None  \n",
       "1    X290_D_dist          32.0             None       None  \n",
       "2    X290_D_dist          32.0             None       None  \n",
       "3    X290_D_dist          32.0             None       None  \n",
       "4    X290_D_dist          31.0             None       None  "
      ]
     },
     "execution_count": 16,
     "metadata": {},
     "output_type": "execute_result"
    }
   ],
   "source": [
    "# Create pandas DataFrame from list of tuples\n",
    "df = pd.DataFrame(cell_attributes)\n",
    "\n",
    "# Add column names to respective columns\n",
    "df.columns = colnames\n",
    "\n",
    "# Display first five rows of pandas DataFrame\n",
    "df.head()"
   ]
  },
  {
   "cell_type": "code",
   "execution_count": 109,
   "metadata": {},
   "outputs": [
    {
     "name": "stdout",
     "output_type": "stream",
     "text": [
      "    stage ovule_id     n\n",
      "0     1-I    786_B    48\n",
      "1     1-I    783_A    46\n",
      "2     1-I    784_B    45\n",
      "3     1-I    786_D    45\n",
      "4     1-I    785_C    41\n",
      "..    ...      ...   ...\n",
      "153  3-VI      752  1812\n",
      "154  3-VI      756  1765\n",
      "155  3-VI      754  1729\n",
      "156  3-VI      755  1708\n",
      "157  3-VI      559  1698\n",
      "\n",
      "[158 rows x 3 columns]\n"
     ]
    }
   ],
   "source": [
    "# Count number of cells per ovule per stage\n",
    "# Group by variables \"stage_id\" and count unique values in \"ovule_id\"\n",
    "count_cells_by_stage = df.groupby(['stage'])['ovule_id'].value_counts().reset_index(name='n')\n",
    "print(count_cells_by_stage)"
   ]
  },
  {
   "cell_type": "code",
   "execution_count": 110,
   "metadata": {},
   "outputs": [
    {
     "data": {
      "image/png": "[encoded data removed]",
      "text/plain": [
       "<Figure size 640x480 with 1 Axes>"
      ]
     },
     "metadata": {},
     "output_type": "display_data"
    }
   ],
   "source": [
    "# Box plot of number of cells per ovule over stage\n",
    "\n",
    "# Box plots\n",
    "sns.boxplot(data=count_cells_by_stage, x='n', y='stage')\n",
    "\n",
    "# Scatter plots\n",
    "sns.stripplot(data=count_cells_by_stage, x='n', y='stage', color='black', alpha=0.5)\n",
    "\n",
    "# Change label of x-axis\n",
    "plt.xlabel('number of cells per ovule')\n",
    "\n",
    "# Show plot\n",
    "plt.show()"
   ]
  },
  {
   "cell_type": "code",
   "execution_count": 111,
   "metadata": {},
   "outputs": [
    {
     "name": "stdout",
     "output_type": "stream",
     "text": [
      "    stage ovule_id    cell_vol\n",
      "0     1-I    783_A   5273.1159\n",
      "1     1-I    784_A   5118.4659\n",
      "2     1-I    784_B   5755.6761\n",
      "3     1-I    784_D   5650.7137\n",
      "4     1-I    785_A   5501.2369\n",
      "..    ...      ...         ...\n",
      "153  3-VI      752  456429.046\n",
      "154  3-VI      753  493163.326\n",
      "155  3-VI      754  457321.295\n",
      "156  3-VI      755  388492.214\n",
      "157  3-VI      756  406446.508\n",
      "\n",
      "[158 rows x 3 columns]\n"
     ]
    }
   ],
   "source": [
    "# Compute total volume of ovule per stage\n",
    "# Group by variables \"stage\", \"ovule_id\" and sum up the volume\n",
    "ovule_volume_by_stage = df.groupby(['stage', 'ovule_id'])['cell_vol'].sum().reset_index()\n",
    "print(ovule_volume_by_stage)"
   ]
  },
  {
   "cell_type": "code",
   "execution_count": 112,
   "metadata": {},
   "outputs": [
    {
     "data": {
      "image/png": "[encoded data removed]",
      "text/plain": [
       "<Figure size 640x480 with 1 Axes>"
      ]
     },
     "metadata": {},
     "output_type": "display_data"
    }
   ],
   "source": [
    "# Box plot of total volume of ovule over stage\n",
    "\n",
    "# Convert variable \"cell_vol\" from type decimal to type float\n",
    "ovule_volume_by_stage['cell_vol'] = ovule_volume_by_stage['cell_vol'].astype('float')\n",
    "\n",
    "# Init plot\n",
    "fig, ax = plt.subplots()\n",
    "\n",
    "# Box plots\n",
    "sns.boxplot(data=ovule_volume_by_stage, x='cell_vol', y='stage')\n",
    "\n",
    "# Scatter plots\n",
    "sns.stripplot(data=ovule_volume_by_stage, x='cell_vol', y='stage', color='black', alpha=0.5)\n",
    "\n",
    "# Change format of tick labels\n",
    "ax.xaxis.set_major_formatter(ticker.EngFormatter())\n",
    "\n",
    "# Change label of x-axis\n",
    "plt.xlabel('total volume of ovule')\n",
    "\n",
    "# Show plot\n",
    "plt.show()"
   ]
  },
  {
   "cell_type": "code",
   "execution_count": 113,
   "metadata": {},
   "outputs": [
    {
     "name": "stdout",
     "output_type": "stream",
     "text": [
      "    stage ovule_id  n_mitotic\n",
      "0     1-I    784_B          1\n",
      "1     1-I    784_D          1\n",
      "2     1-I    786_B          1\n",
      "3     1-I    787_B          1\n",
      "4    1-II    601_B          2\n",
      "..    ...      ...        ...\n",
      "124  3-VI      756         12\n",
      "125  3-VI      559         11\n",
      "126  3-VI      751         10\n",
      "127  3-VI      557          7\n",
      "128  3-VI      752          6\n",
      "\n",
      "[129 rows x 3 columns]\n"
     ]
    }
   ],
   "source": [
    "# Compute overall number of cells and number of mitotic cells per ovule per stage\n",
    "# Group by variables \"stage\" and count unique values in variable \"ovule_id\"\n",
    "count_mcells_by_stage = df[df['cell_cycle'] == 'M']\n",
    "count_mcells_by_stage = count_mcells_by_stage.groupby(['stage'])['ovule_id'].value_counts().reset_index(name='n_mitotic')\n",
    "print(count_mcells_by_stage)"
   ]
  },
  {
   "cell_type": "code",
   "execution_count": 121,
   "metadata": {},
   "outputs": [
    {
     "name": "stdout",
     "output_type": "stream",
     "text": [
      "    stage ovule_id     n  n_mitotic     ratio\n",
      "0     1-I    786_B    48          1  0.020833\n",
      "1     1-I    783_A    46          0  0.000000\n",
      "2     1-I    784_B    45          1  0.022222\n",
      "3     1-I    786_D    45          0  0.000000\n",
      "4     1-I    785_C    41          0  0.000000\n",
      "..    ...      ...   ...        ...       ...\n",
      "153  3-VI      752  1812          6  0.003311\n",
      "154  3-VI      756  1765         12  0.006799\n",
      "155  3-VI      754  1729         14  0.008097\n",
      "156  3-VI      755  1708         12  0.007026\n",
      "157  3-VI      559  1698         11  0.006478\n",
      "\n",
      "[158 rows x 5 columns]\n"
     ]
    }
   ],
   "source": [
    "# Merge tables to display number of total cells and number of mitotic cells per ovule per stage\n",
    "\n",
    "# Define variables by which to group\n",
    "gr = ['ovule_id', 'stage']\n",
    "\n",
    "# Merge DataFrames with a database-style join\n",
    "count_by_stage = pd.merge(count_cells_by_stage, count_mcells_by_stage, left_on=gr, right_on=gr, how='outer')\n",
    "\n",
    "# Replace NaN values in variable \"n_mitotic\" by zero values and convert back to type \"integer\"\n",
    "count_by_stage['n_mitotic'] = count_by_stage['n_mitotic'].fillna(0).astype('int64')\n",
    "\n",
    "# Calculate ratio between overall number of cells and number of mitotic cells\n",
    "count_by_stage['ratio'] = count_by_stage['n_mitotic'] / count_by_stage['n']\n",
    "\n",
    "# Print data\n",
    "print(count_by_stage)"
   ]
  }
 ],
 "metadata": {
  "kernelspec": {
   "display_name": ".venv",
   "language": "python",
   "name": "python3"
  },
  "language_info": {
   "codemirror_mode": {
    "name": "ipython",
    "version": 3
   },
   "file_extension": ".py",
   "mimetype": "text/x-python",
   "name": "python",
   "nbconvert_exporter": "python",
   "pygments_lexer": "ipython3",
   "version": "3.10.2"
  },
  "vscode": {
   "interpreter": {
    "hash": "ab501cf9e8570b39439f7cab19917b893ff7ddab3c58e66cf710fa72ed0d0121"
   }
  }
 },
 "nbformat": 4,
 "nbformat_minor": 0
}
