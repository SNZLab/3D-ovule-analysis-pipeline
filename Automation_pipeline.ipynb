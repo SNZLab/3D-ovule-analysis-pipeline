{
 "cells": [
  {
   "cell_type": "code",
   "execution_count": 1,
   "metadata": {
    "collapsed": true
   },
   "outputs": [],
   "source": [
    "import psycopg2"
   ]
  },
  {
   "cell_type": "code",
   "execution_count": 37,
   "metadata": {
    "collapsed": false,
    "pycharm": {
     "name": "#%%\n"
    }
   },
   "outputs": [],
   "source": [
    "# Connect to database\n",
    "con = psycopg2.connect(\"dbname='SNZLab' user='postgres' host='localhost' password='PlantDevSchnLab112022'\")\n",
    "\n",
    "# Open a cursor to perform database operations\n",
    "cur = con.cursor()\n",
    "\n",
    "# Execute a command\n",
    "cur.execute(\"SELECT * FROM cell_attributes\")"
   ]
  },
  {
   "cell_type": "code",
   "execution_count": 38,
   "metadata": {
    "collapsed": false,
    "pycharm": {
     "name": "#%%\n"
    }
   },
   "outputs": [],
   "source": [
    "# Obtain data as python opject\n",
    "\n",
    "# Obtain first column of data table\n",
    "# first_col = cur.fetchone()\n",
    "\n",
    "# Obtain all columns\n",
    "cell_attributes = cur.fetchall()"
   ]
  },
  {
   "cell_type": "code",
   "execution_count": 42,
   "metadata": {
    "collapsed": false,
    "pycharm": {
     "name": "#%%\n"
    }
   },
   "outputs": [
    {
     "name": "stdout",
     "output_type": "stream",
     "text": [
      "(1835, 7, 'ChiOX', 1793, '3-IV', Decimal('6.00088'), Decimal('5.29523'), Decimal('6.09765'), Decimal('148.201'), 3, Decimal('108.799'), Decimal('0.734131'), Decimal('142.288'))\n"
     ]
    }
   ],
   "source": [
    "print(cell_attributes[0])"
   ]
  }
 ],
 "metadata": {
  "kernelspec": {
   "display_name": ".venv",
   "language": "python",
   "name": "python3"
  },
  "language_info": {
   "codemirror_mode": {
    "name": "ipython",
    "version": 3
   },
   "file_extension": ".py",
   "mimetype": "text/x-python",
   "name": "python",
   "nbconvert_exporter": "python",
   "pygments_lexer": "ipython3",
   "version": "3.10.2"
  },
  "vscode": {
   "interpreter": {
    "hash": "ab501cf9e8570b39439f7cab19917b893ff7ddab3c58e66cf710fa72ed0d0121"
   }
  }
 },
 "nbformat": 4,
 "nbformat_minor": 0
}
